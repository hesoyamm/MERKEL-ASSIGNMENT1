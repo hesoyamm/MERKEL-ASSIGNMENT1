{
 "cells": [
  {
   "cell_type": "code",
   "execution_count": 103,
   "metadata": {},
   "outputs": [],
   "source": [
    "import numpy as np\n",
    "import pandas as pd\n",
    "import matplotlib.pyplot as plt\n",
    "import warnings\n",
    "import seaborn as sns\n",
    "warnings.filterwarnings(\"ignore\")\n",
    "%matplotlib inline\n",
    "from sklearn.preprocessing import LabelEncoder"
   ]
  },
  {
   "cell_type": "code",
   "execution_count": 104,
   "metadata": {},
   "outputs": [],
   "source": [
    "data = pd.read_excel('Data Analyst Assignment (1).xlsx', index_col=0)"
   ]
  },
  {
   "cell_type": "code",
   "execution_count": 105,
   "metadata": {},
   "outputs": [
    {
     "name": "stdout",
     "output_type": "stream",
     "text": [
      "<class 'pandas.core.frame.DataFrame'>\n",
      "DatetimeIndex: 16834 entries, 2019-10-16 to 2020-07-07\n",
      "Data columns (total 15 columns):\n",
      " #   Column                Non-Null Count  Dtype  \n",
      "---  ------                --------------  -----  \n",
      " 0   product               16834 non-null  object \n",
      " 1   phase                 16834 non-null  object \n",
      " 2   campaign_platform     16834 non-null  object \n",
      " 3   campaign_type         16834 non-null  object \n",
      " 4   communication_medium  16834 non-null  object \n",
      " 5   subchannel            16834 non-null  object \n",
      " 6   audience_type         16834 non-null  object \n",
      " 7   creative_type         16834 non-null  object \n",
      " 8   creative_name         16834 non-null  object \n",
      " 9   device                16834 non-null  object \n",
      " 10  age                   16834 non-null  object \n",
      " 11  spends                16834 non-null  float64\n",
      " 12  impressions           16834 non-null  int64  \n",
      " 13  clicks                16834 non-null  int64  \n",
      " 14  link_clicks           16288 non-null  float64\n",
      "dtypes: float64(2), int64(2), object(11)\n",
      "memory usage: 2.1+ MB\n"
     ]
    }
   ],
   "source": [
    "data.info()"
   ]
  },
  {
   "cell_type": "code",
   "execution_count": 106,
   "metadata": {},
   "outputs": [
    {
     "data": {
      "text/plain": [
       "3570"
      ]
     },
     "execution_count": 106,
     "metadata": {},
     "output_type": "execute_result"
    }
   ],
   "source": [
    "data.duplicated().sum()"
   ]
  },
  {
   "cell_type": "code",
   "execution_count": 107,
   "metadata": {},
   "outputs": [
    {
     "data": {
      "text/html": [
       "<div>\n",
       "<style scoped>\n",
       "    .dataframe tbody tr th:only-of-type {\n",
       "        vertical-align: middle;\n",
       "    }\n",
       "\n",
       "    .dataframe tbody tr th {\n",
       "        vertical-align: top;\n",
       "    }\n",
       "\n",
       "    .dataframe thead th {\n",
       "        text-align: right;\n",
       "    }\n",
       "</style>\n",
       "<table border=\"1\" class=\"dataframe\">\n",
       "  <thead>\n",
       "    <tr style=\"text-align: right;\">\n",
       "      <th></th>\n",
       "      <th>product</th>\n",
       "      <th>phase</th>\n",
       "      <th>campaign_platform</th>\n",
       "      <th>campaign_type</th>\n",
       "      <th>communication_medium</th>\n",
       "      <th>subchannel</th>\n",
       "      <th>audience_type</th>\n",
       "      <th>creative_type</th>\n",
       "      <th>creative_name</th>\n",
       "      <th>device</th>\n",
       "      <th>age</th>\n",
       "      <th>spends</th>\n",
       "      <th>impressions</th>\n",
       "      <th>clicks</th>\n",
       "      <th>link_clicks</th>\n",
       "    </tr>\n",
       "    <tr>\n",
       "      <th>Date</th>\n",
       "      <th></th>\n",
       "      <th></th>\n",
       "      <th></th>\n",
       "      <th></th>\n",
       "      <th></th>\n",
       "      <th></th>\n",
       "      <th></th>\n",
       "      <th></th>\n",
       "      <th></th>\n",
       "      <th></th>\n",
       "      <th></th>\n",
       "      <th></th>\n",
       "      <th></th>\n",
       "      <th></th>\n",
       "      <th></th>\n",
       "    </tr>\n",
       "  </thead>\n",
       "  <tbody>\n",
       "    <tr>\n",
       "      <th>2019-10-16</th>\n",
       "      <td>Product 1</td>\n",
       "      <td>Performance</td>\n",
       "      <td>Google Ads</td>\n",
       "      <td>Search</td>\n",
       "      <td>Search Keywords</td>\n",
       "      <td>Brand</td>\n",
       "      <td>'-</td>\n",
       "      <td>'-</td>\n",
       "      <td>'-</td>\n",
       "      <td>Desktop</td>\n",
       "      <td>18-24</td>\n",
       "      <td>0.00</td>\n",
       "      <td>2</td>\n",
       "      <td>0</td>\n",
       "      <td>0.0</td>\n",
       "    </tr>\n",
       "    <tr>\n",
       "      <th>2019-10-16</th>\n",
       "      <td>Product 1</td>\n",
       "      <td>Performance</td>\n",
       "      <td>Google Ads</td>\n",
       "      <td>Search</td>\n",
       "      <td>Search Keywords</td>\n",
       "      <td>Brand</td>\n",
       "      <td>'-</td>\n",
       "      <td>'-</td>\n",
       "      <td>'-</td>\n",
       "      <td>Desktop</td>\n",
       "      <td>25-34</td>\n",
       "      <td>0.00</td>\n",
       "      <td>5</td>\n",
       "      <td>0</td>\n",
       "      <td>0.0</td>\n",
       "    </tr>\n",
       "    <tr>\n",
       "      <th>2019-10-16</th>\n",
       "      <td>Product 1</td>\n",
       "      <td>Performance</td>\n",
       "      <td>Google Ads</td>\n",
       "      <td>Search</td>\n",
       "      <td>Search Keywords</td>\n",
       "      <td>Brand</td>\n",
       "      <td>'-</td>\n",
       "      <td>'-</td>\n",
       "      <td>'-</td>\n",
       "      <td>Desktop</td>\n",
       "      <td>35-44</td>\n",
       "      <td>0.00</td>\n",
       "      <td>1</td>\n",
       "      <td>0</td>\n",
       "      <td>0.0</td>\n",
       "    </tr>\n",
       "    <tr>\n",
       "      <th>2019-10-16</th>\n",
       "      <td>Product 1</td>\n",
       "      <td>Performance</td>\n",
       "      <td>Google Ads</td>\n",
       "      <td>Search</td>\n",
       "      <td>Search Keywords</td>\n",
       "      <td>Brand</td>\n",
       "      <td>'-</td>\n",
       "      <td>'-</td>\n",
       "      <td>'-</td>\n",
       "      <td>Desktop</td>\n",
       "      <td>Undetermined</td>\n",
       "      <td>14.63</td>\n",
       "      <td>5</td>\n",
       "      <td>3</td>\n",
       "      <td>0.0</td>\n",
       "    </tr>\n",
       "    <tr>\n",
       "      <th>2019-10-18</th>\n",
       "      <td>Product 1</td>\n",
       "      <td>Performance</td>\n",
       "      <td>Google Ads</td>\n",
       "      <td>Search</td>\n",
       "      <td>Search Keywords</td>\n",
       "      <td>Brand</td>\n",
       "      <td>'-</td>\n",
       "      <td>'-</td>\n",
       "      <td>'-</td>\n",
       "      <td>Desktop</td>\n",
       "      <td>18-24</td>\n",
       "      <td>53.31</td>\n",
       "      <td>10</td>\n",
       "      <td>2</td>\n",
       "      <td>0.0</td>\n",
       "    </tr>\n",
       "    <tr>\n",
       "      <th>...</th>\n",
       "      <td>...</td>\n",
       "      <td>...</td>\n",
       "      <td>...</td>\n",
       "      <td>...</td>\n",
       "      <td>...</td>\n",
       "      <td>...</td>\n",
       "      <td>...</td>\n",
       "      <td>...</td>\n",
       "      <td>...</td>\n",
       "      <td>...</td>\n",
       "      <td>...</td>\n",
       "      <td>...</td>\n",
       "      <td>...</td>\n",
       "      <td>...</td>\n",
       "      <td>...</td>\n",
       "    </tr>\n",
       "    <tr>\n",
       "      <th>2020-07-07</th>\n",
       "      <td>Product 1</td>\n",
       "      <td>Performance</td>\n",
       "      <td>Google Ads</td>\n",
       "      <td>Search</td>\n",
       "      <td>Search Keywords</td>\n",
       "      <td>Brand</td>\n",
       "      <td>'-</td>\n",
       "      <td>'-</td>\n",
       "      <td>'-</td>\n",
       "      <td>Desktop</td>\n",
       "      <td>18-24</td>\n",
       "      <td>3.04</td>\n",
       "      <td>4</td>\n",
       "      <td>3</td>\n",
       "      <td>0.0</td>\n",
       "    </tr>\n",
       "    <tr>\n",
       "      <th>2020-07-07</th>\n",
       "      <td>Product 1</td>\n",
       "      <td>Performance</td>\n",
       "      <td>Google Ads</td>\n",
       "      <td>Search</td>\n",
       "      <td>Search Keywords</td>\n",
       "      <td>Brand</td>\n",
       "      <td>'-</td>\n",
       "      <td>'-</td>\n",
       "      <td>'-</td>\n",
       "      <td>Desktop</td>\n",
       "      <td>25-34</td>\n",
       "      <td>1.35</td>\n",
       "      <td>6</td>\n",
       "      <td>3</td>\n",
       "      <td>0.0</td>\n",
       "    </tr>\n",
       "    <tr>\n",
       "      <th>2020-07-07</th>\n",
       "      <td>Product 1</td>\n",
       "      <td>Performance</td>\n",
       "      <td>Google Ads</td>\n",
       "      <td>Search</td>\n",
       "      <td>Search Keywords</td>\n",
       "      <td>Brand</td>\n",
       "      <td>'-</td>\n",
       "      <td>'-</td>\n",
       "      <td>'-</td>\n",
       "      <td>Desktop</td>\n",
       "      <td>35-44</td>\n",
       "      <td>3.50</td>\n",
       "      <td>3</td>\n",
       "      <td>1</td>\n",
       "      <td>0.0</td>\n",
       "    </tr>\n",
       "    <tr>\n",
       "      <th>2020-07-07</th>\n",
       "      <td>Product 1</td>\n",
       "      <td>Performance</td>\n",
       "      <td>Google Ads</td>\n",
       "      <td>Search</td>\n",
       "      <td>Search Keywords</td>\n",
       "      <td>Brand</td>\n",
       "      <td>'-</td>\n",
       "      <td>'-</td>\n",
       "      <td>'-</td>\n",
       "      <td>Desktop</td>\n",
       "      <td>Undetermined</td>\n",
       "      <td>14.77</td>\n",
       "      <td>11</td>\n",
       "      <td>3</td>\n",
       "      <td>0.0</td>\n",
       "    </tr>\n",
       "    <tr>\n",
       "      <th>2020-07-07</th>\n",
       "      <td>Product 1</td>\n",
       "      <td>Performance</td>\n",
       "      <td>Google Ads</td>\n",
       "      <td>Search</td>\n",
       "      <td>Search Keywords</td>\n",
       "      <td>Brand</td>\n",
       "      <td>'-</td>\n",
       "      <td>'-</td>\n",
       "      <td>'-</td>\n",
       "      <td>Mobile</td>\n",
       "      <td>18-24</td>\n",
       "      <td>14.76</td>\n",
       "      <td>29</td>\n",
       "      <td>8</td>\n",
       "      <td>0.0</td>\n",
       "    </tr>\n",
       "  </tbody>\n",
       "</table>\n",
       "<p>16829 rows × 15 columns</p>\n",
       "</div>"
      ],
      "text/plain": [
       "              product        phase campaign_platform campaign_type  \\\n",
       "Date                                                                 \n",
       "2019-10-16  Product 1  Performance        Google Ads        Search   \n",
       "2019-10-16  Product 1  Performance        Google Ads        Search   \n",
       "2019-10-16  Product 1  Performance        Google Ads        Search   \n",
       "2019-10-16  Product 1  Performance        Google Ads        Search   \n",
       "2019-10-18  Product 1  Performance        Google Ads        Search   \n",
       "...               ...          ...               ...           ...   \n",
       "2020-07-07  Product 1  Performance        Google Ads        Search   \n",
       "2020-07-07  Product 1  Performance        Google Ads        Search   \n",
       "2020-07-07  Product 1  Performance        Google Ads        Search   \n",
       "2020-07-07  Product 1  Performance        Google Ads        Search   \n",
       "2020-07-07  Product 1  Performance        Google Ads        Search   \n",
       "\n",
       "           communication_medium subchannel audience_type creative_type  \\\n",
       "Date                                                                     \n",
       "2019-10-16      Search Keywords      Brand            '-            '-   \n",
       "2019-10-16      Search Keywords      Brand            '-            '-   \n",
       "2019-10-16      Search Keywords      Brand            '-            '-   \n",
       "2019-10-16      Search Keywords      Brand            '-            '-   \n",
       "2019-10-18      Search Keywords      Brand            '-            '-   \n",
       "...                         ...        ...           ...           ...   \n",
       "2020-07-07      Search Keywords      Brand            '-            '-   \n",
       "2020-07-07      Search Keywords      Brand            '-            '-   \n",
       "2020-07-07      Search Keywords      Brand            '-            '-   \n",
       "2020-07-07      Search Keywords      Brand            '-            '-   \n",
       "2020-07-07      Search Keywords      Brand            '-            '-   \n",
       "\n",
       "           creative_name   device           age  spends  impressions  clicks  \\\n",
       "Date                                                                           \n",
       "2019-10-16            '-  Desktop         18-24    0.00            2       0   \n",
       "2019-10-16            '-  Desktop         25-34    0.00            5       0   \n",
       "2019-10-16            '-  Desktop         35-44    0.00            1       0   \n",
       "2019-10-16            '-  Desktop  Undetermined   14.63            5       3   \n",
       "2019-10-18            '-  Desktop         18-24   53.31           10       2   \n",
       "...                  ...      ...           ...     ...          ...     ...   \n",
       "2020-07-07            '-  Desktop         18-24    3.04            4       3   \n",
       "2020-07-07            '-  Desktop         25-34    1.35            6       3   \n",
       "2020-07-07            '-  Desktop         35-44    3.50            3       1   \n",
       "2020-07-07            '-  Desktop  Undetermined   14.77           11       3   \n",
       "2020-07-07            '-   Mobile         18-24   14.76           29       8   \n",
       "\n",
       "            link_clicks  \n",
       "Date                     \n",
       "2019-10-16          0.0  \n",
       "2019-10-16          0.0  \n",
       "2019-10-16          0.0  \n",
       "2019-10-16          0.0  \n",
       "2019-10-18          0.0  \n",
       "...                 ...  \n",
       "2020-07-07          0.0  \n",
       "2020-07-07          0.0  \n",
       "2020-07-07          0.0  \n",
       "2020-07-07          0.0  \n",
       "2020-07-07          0.0  \n",
       "\n",
       "[16829 rows x 15 columns]"
      ]
     },
     "execution_count": 107,
     "metadata": {},
     "output_type": "execute_result"
    }
   ],
   "source": [
    "data.head(-5)"
   ]
  },
  {
   "cell_type": "code",
   "execution_count": 108,
   "metadata": {},
   "outputs": [
    {
     "data": {
      "text/plain": [
       "Index(['product', 'phase', 'campaign_platform', 'campaign_type',\n",
       "       'communication_medium', 'subchannel', 'audience_type', 'creative_type',\n",
       "       'creative_name', 'device', 'age', 'spends', 'impressions', 'clicks',\n",
       "       'link_clicks'],\n",
       "      dtype='object')"
      ]
     },
     "execution_count": 108,
     "metadata": {},
     "output_type": "execute_result"
    }
   ],
   "source": [
    "data.columns"
   ]
  },
  {
   "cell_type": "code",
   "execution_count": 109,
   "metadata": {},
   "outputs": [
    {
     "data": {
      "text/html": [
       "<style  type=\"text/css\" >\n",
       "    #T_d9db495d_e417_11ea_8f70_e82a44d246b2row0_col0 {\n",
       "            background-color:  #ffc77f;\n",
       "            color:  #000000;\n",
       "        }    #T_d9db495d_e417_11ea_8f70_e82a44d246b2row0_col1 {\n",
       "            background-color:  #4e311f;\n",
       "            color:  #f1f1f1;\n",
       "        }    #T_d9db495d_e417_11ea_8f70_e82a44d246b2row0_col2 {\n",
       "            background-color:  #ffc77f;\n",
       "            color:  #000000;\n",
       "        }    #T_d9db495d_e417_11ea_8f70_e82a44d246b2row0_col3 {\n",
       "            background-color:  #ffc77f;\n",
       "            color:  #000000;\n",
       "        }    #T_d9db495d_e417_11ea_8f70_e82a44d246b2row1_col0 {\n",
       "            background-color:  #020201;\n",
       "            color:  #f1f1f1;\n",
       "        }    #T_d9db495d_e417_11ea_8f70_e82a44d246b2row1_col1 {\n",
       "            background-color:  #010100;\n",
       "            color:  #f1f1f1;\n",
       "        }    #T_d9db495d_e417_11ea_8f70_e82a44d246b2row1_col2 {\n",
       "            background-color:  #000000;\n",
       "            color:  #f1f1f1;\n",
       "        }    #T_d9db495d_e417_11ea_8f70_e82a44d246b2row1_col3 {\n",
       "            background-color:  #000000;\n",
       "            color:  #f1f1f1;\n",
       "        }    #T_d9db495d_e417_11ea_8f70_e82a44d246b2row2_col0 {\n",
       "            background-color:  #090503;\n",
       "            color:  #f1f1f1;\n",
       "        }    #T_d9db495d_e417_11ea_8f70_e82a44d246b2row2_col1 {\n",
       "            background-color:  #0b0704;\n",
       "            color:  #f1f1f1;\n",
       "        }    #T_d9db495d_e417_11ea_8f70_e82a44d246b2row2_col2 {\n",
       "            background-color:  #000000;\n",
       "            color:  #f1f1f1;\n",
       "        }    #T_d9db495d_e417_11ea_8f70_e82a44d246b2row2_col3 {\n",
       "            background-color:  #000000;\n",
       "            color:  #f1f1f1;\n",
       "        }    #T_d9db495d_e417_11ea_8f70_e82a44d246b2row3_col0 {\n",
       "            background-color:  #000000;\n",
       "            color:  #f1f1f1;\n",
       "        }    #T_d9db495d_e417_11ea_8f70_e82a44d246b2row3_col1 {\n",
       "            background-color:  #000000;\n",
       "            color:  #f1f1f1;\n",
       "        }    #T_d9db495d_e417_11ea_8f70_e82a44d246b2row3_col2 {\n",
       "            background-color:  #000000;\n",
       "            color:  #f1f1f1;\n",
       "        }    #T_d9db495d_e417_11ea_8f70_e82a44d246b2row3_col3 {\n",
       "            background-color:  #000000;\n",
       "            color:  #f1f1f1;\n",
       "        }    #T_d9db495d_e417_11ea_8f70_e82a44d246b2row4_col0 {\n",
       "            background-color:  #000000;\n",
       "            color:  #f1f1f1;\n",
       "        }    #T_d9db495d_e417_11ea_8f70_e82a44d246b2row4_col1 {\n",
       "            background-color:  #000000;\n",
       "            color:  #f1f1f1;\n",
       "        }    #T_d9db495d_e417_11ea_8f70_e82a44d246b2row4_col2 {\n",
       "            background-color:  #000000;\n",
       "            color:  #f1f1f1;\n",
       "        }    #T_d9db495d_e417_11ea_8f70_e82a44d246b2row4_col3 {\n",
       "            background-color:  #000000;\n",
       "            color:  #f1f1f1;\n",
       "        }    #T_d9db495d_e417_11ea_8f70_e82a44d246b2row5_col0 {\n",
       "            background-color:  #000000;\n",
       "            color:  #f1f1f1;\n",
       "        }    #T_d9db495d_e417_11ea_8f70_e82a44d246b2row5_col1 {\n",
       "            background-color:  #000000;\n",
       "            color:  #f1f1f1;\n",
       "        }    #T_d9db495d_e417_11ea_8f70_e82a44d246b2row5_col2 {\n",
       "            background-color:  #000000;\n",
       "            color:  #f1f1f1;\n",
       "        }    #T_d9db495d_e417_11ea_8f70_e82a44d246b2row5_col3 {\n",
       "            background-color:  #000000;\n",
       "            color:  #f1f1f1;\n",
       "        }    #T_d9db495d_e417_11ea_8f70_e82a44d246b2row6_col0 {\n",
       "            background-color:  #010100;\n",
       "            color:  #f1f1f1;\n",
       "        }    #T_d9db495d_e417_11ea_8f70_e82a44d246b2row6_col1 {\n",
       "            background-color:  #000000;\n",
       "            color:  #f1f1f1;\n",
       "        }    #T_d9db495d_e417_11ea_8f70_e82a44d246b2row6_col2 {\n",
       "            background-color:  #000000;\n",
       "            color:  #f1f1f1;\n",
       "        }    #T_d9db495d_e417_11ea_8f70_e82a44d246b2row6_col3 {\n",
       "            background-color:  #000000;\n",
       "            color:  #f1f1f1;\n",
       "        }    #T_d9db495d_e417_11ea_8f70_e82a44d246b2row7_col0 {\n",
       "            background-color:  #ad6d46;\n",
       "            color:  #000000;\n",
       "        }    #T_d9db495d_e417_11ea_8f70_e82a44d246b2row7_col1 {\n",
       "            background-color:  #ffc77f;\n",
       "            color:  #000000;\n",
       "        }    #T_d9db495d_e417_11ea_8f70_e82a44d246b2row7_col2 {\n",
       "            background-color:  #140c08;\n",
       "            color:  #f1f1f1;\n",
       "        }    #T_d9db495d_e417_11ea_8f70_e82a44d246b2row7_col3 {\n",
       "            background-color:  #090503;\n",
       "            color:  #f1f1f1;\n",
       "        }</style><table id=\"T_d9db495d_e417_11ea_8f70_e82a44d246b2\" ><thead>    <tr>        <th class=\"blank level0\" ></th>        <th class=\"col_heading level0 col0\" >spends</th>        <th class=\"col_heading level0 col1\" >impressions</th>        <th class=\"col_heading level0 col2\" >clicks</th>        <th class=\"col_heading level0 col3\" >link_clicks</th>    </tr></thead><tbody>\n",
       "                <tr>\n",
       "                        <th id=\"T_d9db495d_e417_11ea_8f70_e82a44d246b2level0_row0\" class=\"row_heading level0 row0\" >count</th>\n",
       "                        <td id=\"T_d9db495d_e417_11ea_8f70_e82a44d246b2row0_col0\" class=\"data row0 col0\" >16834.000000</td>\n",
       "                        <td id=\"T_d9db495d_e417_11ea_8f70_e82a44d246b2row0_col1\" class=\"data row0 col1\" >16834.000000</td>\n",
       "                        <td id=\"T_d9db495d_e417_11ea_8f70_e82a44d246b2row0_col2\" class=\"data row0 col2\" >16834.000000</td>\n",
       "                        <td id=\"T_d9db495d_e417_11ea_8f70_e82a44d246b2row0_col3\" class=\"data row0 col3\" >16288.000000</td>\n",
       "            </tr>\n",
       "            <tr>\n",
       "                        <th id=\"T_d9db495d_e417_11ea_8f70_e82a44d246b2level0_row1\" class=\"row_heading level0 row1\" >mean</th>\n",
       "                        <td id=\"T_d9db495d_e417_11ea_8f70_e82a44d246b2row1_col0\" class=\"data row1 col0\" >148.694236</td>\n",
       "                        <td id=\"T_d9db495d_e417_11ea_8f70_e82a44d246b2row1_col1\" class=\"data row1 col1\" >287.959190</td>\n",
       "                        <td id=\"T_d9db495d_e417_11ea_8f70_e82a44d246b2row1_col2\" class=\"data row1 col2\" >11.977783</td>\n",
       "                        <td id=\"T_d9db495d_e417_11ea_8f70_e82a44d246b2row1_col3\" class=\"data row1 col3\" >2.170371</td>\n",
       "            </tr>\n",
       "            <tr>\n",
       "                        <th id=\"T_d9db495d_e417_11ea_8f70_e82a44d246b2level0_row2\" class=\"row_heading level0 row2\" >std</th>\n",
       "                        <td id=\"T_d9db495d_e417_11ea_8f70_e82a44d246b2row2_col0\" class=\"data row2 col0\" >483.895724</td>\n",
       "                        <td id=\"T_d9db495d_e417_11ea_8f70_e82a44d246b2row2_col1\" class=\"data row2 col1\" >2444.450313</td>\n",
       "                        <td id=\"T_d9db495d_e417_11ea_8f70_e82a44d246b2row2_col2\" class=\"data row2 col2\" >44.796963</td>\n",
       "                        <td id=\"T_d9db495d_e417_11ea_8f70_e82a44d246b2row2_col3\" class=\"data row2 col3\" >18.659132</td>\n",
       "            </tr>\n",
       "            <tr>\n",
       "                        <th id=\"T_d9db495d_e417_11ea_8f70_e82a44d246b2level0_row3\" class=\"row_heading level0 row3\" >min</th>\n",
       "                        <td id=\"T_d9db495d_e417_11ea_8f70_e82a44d246b2row3_col0\" class=\"data row3 col0\" >0.000000</td>\n",
       "                        <td id=\"T_d9db495d_e417_11ea_8f70_e82a44d246b2row3_col1\" class=\"data row3 col1\" >0.000000</td>\n",
       "                        <td id=\"T_d9db495d_e417_11ea_8f70_e82a44d246b2row3_col2\" class=\"data row3 col2\" >0.000000</td>\n",
       "                        <td id=\"T_d9db495d_e417_11ea_8f70_e82a44d246b2row3_col3\" class=\"data row3 col3\" >0.000000</td>\n",
       "            </tr>\n",
       "            <tr>\n",
       "                        <th id=\"T_d9db495d_e417_11ea_8f70_e82a44d246b2level0_row4\" class=\"row_heading level0 row4\" >25%</th>\n",
       "                        <td id=\"T_d9db495d_e417_11ea_8f70_e82a44d246b2row4_col0\" class=\"data row4 col0\" >0.180000</td>\n",
       "                        <td id=\"T_d9db495d_e417_11ea_8f70_e82a44d246b2row4_col1\" class=\"data row4 col1\" >3.000000</td>\n",
       "                        <td id=\"T_d9db495d_e417_11ea_8f70_e82a44d246b2row4_col2\" class=\"data row4 col2\" >0.000000</td>\n",
       "                        <td id=\"T_d9db495d_e417_11ea_8f70_e82a44d246b2row4_col3\" class=\"data row4 col3\" >0.000000</td>\n",
       "            </tr>\n",
       "            <tr>\n",
       "                        <th id=\"T_d9db495d_e417_11ea_8f70_e82a44d246b2level0_row5\" class=\"row_heading level0 row5\" >50%</th>\n",
       "                        <td id=\"T_d9db495d_e417_11ea_8f70_e82a44d246b2row5_col0\" class=\"data row5 col0\" >22.535000</td>\n",
       "                        <td id=\"T_d9db495d_e417_11ea_8f70_e82a44d246b2row5_col1\" class=\"data row5 col1\" >13.000000</td>\n",
       "                        <td id=\"T_d9db495d_e417_11ea_8f70_e82a44d246b2row5_col2\" class=\"data row5 col2\" >2.000000</td>\n",
       "                        <td id=\"T_d9db495d_e417_11ea_8f70_e82a44d246b2row5_col3\" class=\"data row5 col3\" >0.000000</td>\n",
       "            </tr>\n",
       "            <tr>\n",
       "                        <th id=\"T_d9db495d_e417_11ea_8f70_e82a44d246b2level0_row6\" class=\"row_heading level0 row6\" >75%</th>\n",
       "                        <td id=\"T_d9db495d_e417_11ea_8f70_e82a44d246b2row6_col0\" class=\"data row6 col0\" >110.020000</td>\n",
       "                        <td id=\"T_d9db495d_e417_11ea_8f70_e82a44d246b2row6_col1\" class=\"data row6 col1\" >64.000000</td>\n",
       "                        <td id=\"T_d9db495d_e417_11ea_8f70_e82a44d246b2row6_col2\" class=\"data row6 col2\" >8.000000</td>\n",
       "                        <td id=\"T_d9db495d_e417_11ea_8f70_e82a44d246b2row6_col3\" class=\"data row6 col3\" >0.000000</td>\n",
       "            </tr>\n",
       "            <tr>\n",
       "                        <th id=\"T_d9db495d_e417_11ea_8f70_e82a44d246b2level0_row7\" class=\"row_heading level0 row7\" >max</th>\n",
       "                        <td id=\"T_d9db495d_e417_11ea_8f70_e82a44d246b2row7_col0\" class=\"data row7 col0\" >9221.960000</td>\n",
       "                        <td id=\"T_d9db495d_e417_11ea_8f70_e82a44d246b2row7_col1\" class=\"data row7 col1\" >67454.000000</td>\n",
       "                        <td id=\"T_d9db495d_e417_11ea_8f70_e82a44d246b2row7_col2\" class=\"data row7 col2\" >1075.000000</td>\n",
       "                        <td id=\"T_d9db495d_e417_11ea_8f70_e82a44d246b2row7_col3\" class=\"data row7 col3\" >450.000000</td>\n",
       "            </tr>\n",
       "    </tbody></table>"
      ],
      "text/plain": [
       "<pandas.io.formats.style.Styler at 0x126a07920d0>"
      ]
     },
     "execution_count": 109,
     "metadata": {},
     "output_type": "execute_result"
    }
   ],
   "source": [
    "data.iloc[:,8:].describe().style.background_gradient(cmap = 'copper')"
   ]
  },
  {
   "cell_type": "markdown",
   "metadata": {},
   "source": [
    "#### there is a problem with spends,impression,clicks, for eg:- i notices the minumum and maximum spends are 0.0, and 9221.9600 respectively. i will deal with this very soon."
   ]
  },
  {
   "cell_type": "markdown",
   "metadata": {},
   "source": [
    "## understanding the discrete variables"
   ]
  },
  {
   "cell_type": "code",
   "execution_count": 110,
   "metadata": {},
   "outputs": [
    {
     "data": {
      "text/plain": [
       "array(['18-24', '25-34', '35-44', 'Undetermined', '45-54', '55-64',\n",
       "       '65 or more'], dtype=object)"
      ]
     },
     "execution_count": 110,
     "metadata": {},
     "output_type": "execute_result"
    }
   ],
   "source": [
    "data.age.unique()"
   ]
  },
  {
   "cell_type": "code",
   "execution_count": 111,
   "metadata": {},
   "outputs": [
    {
     "data": {
      "text/plain": [
       "array(['Desktop', 'Mobile', 'Tablet', 'device'], dtype=object)"
      ]
     },
     "execution_count": 111,
     "metadata": {},
     "output_type": "execute_result"
    }
   ],
   "source": [
    "data.device.unique()"
   ]
  },
  {
   "cell_type": "code",
   "execution_count": 112,
   "metadata": {},
   "outputs": [
    {
     "name": "stdout",
     "output_type": "stream",
     "text": [
      "product                    1\n",
      "phase                      1\n",
      "campaign_platform          2\n",
      "campaign_type              2\n",
      "communication_medium       2\n",
      "subchannel                 4\n",
      "audience_type              4\n",
      "creative_type              3\n",
      "creative_name              4\n",
      "device                     4\n",
      "age                        7\n",
      "spends                  9087\n",
      "impressions             1188\n",
      "clicks                   263\n",
      "link_clicks              160\n",
      "dtype: int64\n"
     ]
    }
   ],
   "source": [
    "unique_count=data.nunique()\n",
    "print(unique_count)"
   ]
  },
  {
   "cell_type": "markdown",
   "metadata": {},
   "source": [
    "#### as we can observe we have to gather insights for the same products with same phase."
   ]
  },
  {
   "cell_type": "code",
   "execution_count": 113,
   "metadata": {},
   "outputs": [],
   "source": [
    "data = data.drop(['product','phase'],axis=1)"
   ]
  },
  {
   "cell_type": "code",
   "execution_count": 114,
   "metadata": {},
   "outputs": [],
   "source": [
    "data_copy = data.copy()\n"
   ]
  },
  {
   "cell_type": "code",
   "execution_count": 115,
   "metadata": {},
   "outputs": [
    {
     "data": {
      "text/html": [
       "<div>\n",
       "<style scoped>\n",
       "    .dataframe tbody tr th:only-of-type {\n",
       "        vertical-align: middle;\n",
       "    }\n",
       "\n",
       "    .dataframe tbody tr th {\n",
       "        vertical-align: top;\n",
       "    }\n",
       "\n",
       "    .dataframe thead th {\n",
       "        text-align: right;\n",
       "    }\n",
       "</style>\n",
       "<table border=\"1\" class=\"dataframe\">\n",
       "  <thead>\n",
       "    <tr style=\"text-align: right;\">\n",
       "      <th></th>\n",
       "      <th>campaign_platform</th>\n",
       "      <th>campaign_type</th>\n",
       "      <th>communication_medium</th>\n",
       "      <th>subchannel</th>\n",
       "      <th>audience_type</th>\n",
       "      <th>creative_type</th>\n",
       "      <th>creative_name</th>\n",
       "      <th>device</th>\n",
       "      <th>age</th>\n",
       "      <th>spends</th>\n",
       "      <th>impressions</th>\n",
       "      <th>clicks</th>\n",
       "      <th>link_clicks</th>\n",
       "    </tr>\n",
       "    <tr>\n",
       "      <th>Date</th>\n",
       "      <th></th>\n",
       "      <th></th>\n",
       "      <th></th>\n",
       "      <th></th>\n",
       "      <th></th>\n",
       "      <th></th>\n",
       "      <th></th>\n",
       "      <th></th>\n",
       "      <th></th>\n",
       "      <th></th>\n",
       "      <th></th>\n",
       "      <th></th>\n",
       "      <th></th>\n",
       "    </tr>\n",
       "  </thead>\n",
       "  <tbody>\n",
       "    <tr>\n",
       "      <th>2019-10-16</th>\n",
       "      <td>Google Ads</td>\n",
       "      <td>Search</td>\n",
       "      <td>Search Keywords</td>\n",
       "      <td>Brand</td>\n",
       "      <td>'-</td>\n",
       "      <td>'-</td>\n",
       "      <td>'-</td>\n",
       "      <td>Desktop</td>\n",
       "      <td>18-24</td>\n",
       "      <td>0.00</td>\n",
       "      <td>2</td>\n",
       "      <td>0</td>\n",
       "      <td>0.0</td>\n",
       "    </tr>\n",
       "    <tr>\n",
       "      <th>2019-10-16</th>\n",
       "      <td>Google Ads</td>\n",
       "      <td>Search</td>\n",
       "      <td>Search Keywords</td>\n",
       "      <td>Brand</td>\n",
       "      <td>'-</td>\n",
       "      <td>'-</td>\n",
       "      <td>'-</td>\n",
       "      <td>Desktop</td>\n",
       "      <td>25-34</td>\n",
       "      <td>0.00</td>\n",
       "      <td>5</td>\n",
       "      <td>0</td>\n",
       "      <td>0.0</td>\n",
       "    </tr>\n",
       "    <tr>\n",
       "      <th>2019-10-16</th>\n",
       "      <td>Google Ads</td>\n",
       "      <td>Search</td>\n",
       "      <td>Search Keywords</td>\n",
       "      <td>Brand</td>\n",
       "      <td>'-</td>\n",
       "      <td>'-</td>\n",
       "      <td>'-</td>\n",
       "      <td>Desktop</td>\n",
       "      <td>35-44</td>\n",
       "      <td>0.00</td>\n",
       "      <td>1</td>\n",
       "      <td>0</td>\n",
       "      <td>0.0</td>\n",
       "    </tr>\n",
       "    <tr>\n",
       "      <th>2019-10-16</th>\n",
       "      <td>Google Ads</td>\n",
       "      <td>Search</td>\n",
       "      <td>Search Keywords</td>\n",
       "      <td>Brand</td>\n",
       "      <td>'-</td>\n",
       "      <td>'-</td>\n",
       "      <td>'-</td>\n",
       "      <td>Desktop</td>\n",
       "      <td>Undetermined</td>\n",
       "      <td>14.63</td>\n",
       "      <td>5</td>\n",
       "      <td>3</td>\n",
       "      <td>0.0</td>\n",
       "    </tr>\n",
       "    <tr>\n",
       "      <th>2019-10-18</th>\n",
       "      <td>Google Ads</td>\n",
       "      <td>Search</td>\n",
       "      <td>Search Keywords</td>\n",
       "      <td>Brand</td>\n",
       "      <td>'-</td>\n",
       "      <td>'-</td>\n",
       "      <td>'-</td>\n",
       "      <td>Desktop</td>\n",
       "      <td>18-24</td>\n",
       "      <td>53.31</td>\n",
       "      <td>10</td>\n",
       "      <td>2</td>\n",
       "      <td>0.0</td>\n",
       "    </tr>\n",
       "    <tr>\n",
       "      <th>...</th>\n",
       "      <td>...</td>\n",
       "      <td>...</td>\n",
       "      <td>...</td>\n",
       "      <td>...</td>\n",
       "      <td>...</td>\n",
       "      <td>...</td>\n",
       "      <td>...</td>\n",
       "      <td>...</td>\n",
       "      <td>...</td>\n",
       "      <td>...</td>\n",
       "      <td>...</td>\n",
       "      <td>...</td>\n",
       "      <td>...</td>\n",
       "    </tr>\n",
       "    <tr>\n",
       "      <th>2020-07-07</th>\n",
       "      <td>Google Ads</td>\n",
       "      <td>Search</td>\n",
       "      <td>Search Keywords</td>\n",
       "      <td>Brand</td>\n",
       "      <td>'-</td>\n",
       "      <td>'-</td>\n",
       "      <td>'-</td>\n",
       "      <td>Mobile</td>\n",
       "      <td>25-34</td>\n",
       "      <td>19.88</td>\n",
       "      <td>36</td>\n",
       "      <td>15</td>\n",
       "      <td>0.0</td>\n",
       "    </tr>\n",
       "    <tr>\n",
       "      <th>2020-07-07</th>\n",
       "      <td>Google Ads</td>\n",
       "      <td>Search</td>\n",
       "      <td>Search Keywords</td>\n",
       "      <td>Brand</td>\n",
       "      <td>'-</td>\n",
       "      <td>'-</td>\n",
       "      <td>'-</td>\n",
       "      <td>Mobile</td>\n",
       "      <td>35-44</td>\n",
       "      <td>1.64</td>\n",
       "      <td>11</td>\n",
       "      <td>1</td>\n",
       "      <td>0.0</td>\n",
       "    </tr>\n",
       "    <tr>\n",
       "      <th>2020-07-07</th>\n",
       "      <td>Google Ads</td>\n",
       "      <td>Search</td>\n",
       "      <td>Search Keywords</td>\n",
       "      <td>Brand</td>\n",
       "      <td>'-</td>\n",
       "      <td>'-</td>\n",
       "      <td>'-</td>\n",
       "      <td>Mobile</td>\n",
       "      <td>45-54</td>\n",
       "      <td>0.00</td>\n",
       "      <td>3</td>\n",
       "      <td>0</td>\n",
       "      <td>0.0</td>\n",
       "    </tr>\n",
       "    <tr>\n",
       "      <th>2020-07-07</th>\n",
       "      <td>Google Ads</td>\n",
       "      <td>Search</td>\n",
       "      <td>Search Keywords</td>\n",
       "      <td>Brand</td>\n",
       "      <td>'-</td>\n",
       "      <td>'-</td>\n",
       "      <td>'-</td>\n",
       "      <td>Mobile</td>\n",
       "      <td>65 or more</td>\n",
       "      <td>0.00</td>\n",
       "      <td>3</td>\n",
       "      <td>0</td>\n",
       "      <td>0.0</td>\n",
       "    </tr>\n",
       "    <tr>\n",
       "      <th>2020-07-07</th>\n",
       "      <td>Google Ads</td>\n",
       "      <td>Search</td>\n",
       "      <td>Search Keywords</td>\n",
       "      <td>Brand</td>\n",
       "      <td>'-</td>\n",
       "      <td>'-</td>\n",
       "      <td>'-</td>\n",
       "      <td>Mobile</td>\n",
       "      <td>Undetermined</td>\n",
       "      <td>1.40</td>\n",
       "      <td>14</td>\n",
       "      <td>1</td>\n",
       "      <td>0.0</td>\n",
       "    </tr>\n",
       "  </tbody>\n",
       "</table>\n",
       "<p>16834 rows × 13 columns</p>\n",
       "</div>"
      ],
      "text/plain": [
       "           campaign_platform campaign_type communication_medium subchannel  \\\n",
       "Date                                                                         \n",
       "2019-10-16        Google Ads        Search      Search Keywords      Brand   \n",
       "2019-10-16        Google Ads        Search      Search Keywords      Brand   \n",
       "2019-10-16        Google Ads        Search      Search Keywords      Brand   \n",
       "2019-10-16        Google Ads        Search      Search Keywords      Brand   \n",
       "2019-10-18        Google Ads        Search      Search Keywords      Brand   \n",
       "...                      ...           ...                  ...        ...   \n",
       "2020-07-07        Google Ads        Search      Search Keywords      Brand   \n",
       "2020-07-07        Google Ads        Search      Search Keywords      Brand   \n",
       "2020-07-07        Google Ads        Search      Search Keywords      Brand   \n",
       "2020-07-07        Google Ads        Search      Search Keywords      Brand   \n",
       "2020-07-07        Google Ads        Search      Search Keywords      Brand   \n",
       "\n",
       "           audience_type creative_type creative_name   device           age  \\\n",
       "Date                                                                          \n",
       "2019-10-16            '-            '-            '-  Desktop         18-24   \n",
       "2019-10-16            '-            '-            '-  Desktop         25-34   \n",
       "2019-10-16            '-            '-            '-  Desktop         35-44   \n",
       "2019-10-16            '-            '-            '-  Desktop  Undetermined   \n",
       "2019-10-18            '-            '-            '-  Desktop         18-24   \n",
       "...                  ...           ...           ...      ...           ...   \n",
       "2020-07-07            '-            '-            '-   Mobile         25-34   \n",
       "2020-07-07            '-            '-            '-   Mobile         35-44   \n",
       "2020-07-07            '-            '-            '-   Mobile         45-54   \n",
       "2020-07-07            '-            '-            '-   Mobile    65 or more   \n",
       "2020-07-07            '-            '-            '-   Mobile  Undetermined   \n",
       "\n",
       "            spends  impressions  clicks  link_clicks  \n",
       "Date                                                  \n",
       "2019-10-16    0.00            2       0          0.0  \n",
       "2019-10-16    0.00            5       0          0.0  \n",
       "2019-10-16    0.00            1       0          0.0  \n",
       "2019-10-16   14.63            5       3          0.0  \n",
       "2019-10-18   53.31           10       2          0.0  \n",
       "...            ...          ...     ...          ...  \n",
       "2020-07-07   19.88           36      15          0.0  \n",
       "2020-07-07    1.64           11       1          0.0  \n",
       "2020-07-07    0.00            3       0          0.0  \n",
       "2020-07-07    0.00            3       0          0.0  \n",
       "2020-07-07    1.40           14       1          0.0  \n",
       "\n",
       "[16834 rows x 13 columns]"
      ]
     },
     "execution_count": 115,
     "metadata": {},
     "output_type": "execute_result"
    }
   ],
   "source": [
    "data_copy"
   ]
  },
  {
   "cell_type": "markdown",
   "metadata": {},
   "source": [
    "##### device vs clicks"
   ]
  },
  {
   "cell_type": "code",
   "execution_count": 116,
   "metadata": {},
   "outputs": [
    {
     "data": {
      "text/html": [
       "<div>\n",
       "<style scoped>\n",
       "    .dataframe tbody tr th:only-of-type {\n",
       "        vertical-align: middle;\n",
       "    }\n",
       "\n",
       "    .dataframe tbody tr th {\n",
       "        vertical-align: top;\n",
       "    }\n",
       "\n",
       "    .dataframe thead th {\n",
       "        text-align: right;\n",
       "    }\n",
       "</style>\n",
       "<table border=\"1\" class=\"dataframe\">\n",
       "  <thead>\n",
       "    <tr style=\"text-align: right;\">\n",
       "      <th>clicks</th>\n",
       "      <th>0</th>\n",
       "      <th>1</th>\n",
       "      <th>2</th>\n",
       "      <th>3</th>\n",
       "      <th>4</th>\n",
       "      <th>5</th>\n",
       "      <th>6</th>\n",
       "      <th>7</th>\n",
       "      <th>8</th>\n",
       "      <th>9</th>\n",
       "      <th>...</th>\n",
       "      <th>861</th>\n",
       "      <th>866</th>\n",
       "      <th>868</th>\n",
       "      <th>880</th>\n",
       "      <th>899</th>\n",
       "      <th>902</th>\n",
       "      <th>924</th>\n",
       "      <th>978</th>\n",
       "      <th>1025</th>\n",
       "      <th>1075</th>\n",
       "    </tr>\n",
       "    <tr>\n",
       "      <th>device</th>\n",
       "      <th></th>\n",
       "      <th></th>\n",
       "      <th></th>\n",
       "      <th></th>\n",
       "      <th></th>\n",
       "      <th></th>\n",
       "      <th></th>\n",
       "      <th></th>\n",
       "      <th></th>\n",
       "      <th></th>\n",
       "      <th></th>\n",
       "      <th></th>\n",
       "      <th></th>\n",
       "      <th></th>\n",
       "      <th></th>\n",
       "      <th></th>\n",
       "      <th></th>\n",
       "      <th></th>\n",
       "      <th></th>\n",
       "      <th></th>\n",
       "      <th></th>\n",
       "    </tr>\n",
       "  </thead>\n",
       "  <tbody>\n",
       "    <tr>\n",
       "      <th>Desktop</th>\n",
       "      <td>1776</td>\n",
       "      <td>1309</td>\n",
       "      <td>785</td>\n",
       "      <td>506</td>\n",
       "      <td>321</td>\n",
       "      <td>273</td>\n",
       "      <td>175</td>\n",
       "      <td>113</td>\n",
       "      <td>85</td>\n",
       "      <td>93</td>\n",
       "      <td>...</td>\n",
       "      <td>0</td>\n",
       "      <td>0</td>\n",
       "      <td>0</td>\n",
       "      <td>0</td>\n",
       "      <td>0</td>\n",
       "      <td>0</td>\n",
       "      <td>0</td>\n",
       "      <td>0</td>\n",
       "      <td>0</td>\n",
       "      <td>0</td>\n",
       "    </tr>\n",
       "    <tr>\n",
       "      <th>Mobile</th>\n",
       "      <td>1252</td>\n",
       "      <td>1013</td>\n",
       "      <td>678</td>\n",
       "      <td>514</td>\n",
       "      <td>372</td>\n",
       "      <td>365</td>\n",
       "      <td>262</td>\n",
       "      <td>228</td>\n",
       "      <td>183</td>\n",
       "      <td>169</td>\n",
       "      <td>...</td>\n",
       "      <td>0</td>\n",
       "      <td>0</td>\n",
       "      <td>0</td>\n",
       "      <td>0</td>\n",
       "      <td>0</td>\n",
       "      <td>0</td>\n",
       "      <td>0</td>\n",
       "      <td>0</td>\n",
       "      <td>0</td>\n",
       "      <td>0</td>\n",
       "    </tr>\n",
       "    <tr>\n",
       "      <th>Tablet</th>\n",
       "      <td>1069</td>\n",
       "      <td>299</td>\n",
       "      <td>41</td>\n",
       "      <td>11</td>\n",
       "      <td>4</td>\n",
       "      <td>1</td>\n",
       "      <td>1</td>\n",
       "      <td>0</td>\n",
       "      <td>0</td>\n",
       "      <td>0</td>\n",
       "      <td>...</td>\n",
       "      <td>0</td>\n",
       "      <td>0</td>\n",
       "      <td>0</td>\n",
       "      <td>0</td>\n",
       "      <td>0</td>\n",
       "      <td>0</td>\n",
       "      <td>0</td>\n",
       "      <td>0</td>\n",
       "      <td>0</td>\n",
       "      <td>0</td>\n",
       "    </tr>\n",
       "    <tr>\n",
       "      <th>device</th>\n",
       "      <td>433</td>\n",
       "      <td>200</td>\n",
       "      <td>101</td>\n",
       "      <td>88</td>\n",
       "      <td>62</td>\n",
       "      <td>43</td>\n",
       "      <td>36</td>\n",
       "      <td>45</td>\n",
       "      <td>24</td>\n",
       "      <td>33</td>\n",
       "      <td>...</td>\n",
       "      <td>1</td>\n",
       "      <td>1</td>\n",
       "      <td>1</td>\n",
       "      <td>1</td>\n",
       "      <td>1</td>\n",
       "      <td>1</td>\n",
       "      <td>1</td>\n",
       "      <td>1</td>\n",
       "      <td>1</td>\n",
       "      <td>1</td>\n",
       "    </tr>\n",
       "  </tbody>\n",
       "</table>\n",
       "<p>4 rows × 263 columns</p>\n",
       "</div>"
      ],
      "text/plain": [
       "clicks   0     1     2     3     4     5     6     7     8     9     ...  \\\n",
       "device                                                               ...   \n",
       "Desktop  1776  1309   785   506   321   273   175   113    85    93  ...   \n",
       "Mobile   1252  1013   678   514   372   365   262   228   183   169  ...   \n",
       "Tablet   1069   299    41    11     4     1     1     0     0     0  ...   \n",
       "device    433   200   101    88    62    43    36    45    24    33  ...   \n",
       "\n",
       "clicks   861   866   868   880   899   902   924   978   1025  1075  \n",
       "device                                                               \n",
       "Desktop     0     0     0     0     0     0     0     0     0     0  \n",
       "Mobile      0     0     0     0     0     0     0     0     0     0  \n",
       "Tablet      0     0     0     0     0     0     0     0     0     0  \n",
       "device      1     1     1     1     1     1     1     1     1     1  \n",
       "\n",
       "[4 rows x 263 columns]"
      ]
     },
     "execution_count": 116,
     "metadata": {},
     "output_type": "execute_result"
    }
   ],
   "source": [
    "pd.crosstab(data['device'],data['clicks']).sort_values(1,0,ascending=False).head(10)"
   ]
  },
  {
   "cell_type": "code",
   "execution_count": 117,
   "metadata": {},
   "outputs": [
    {
     "name": "stdout",
     "output_type": "stream",
     "text": [
      "               campaign_platform           \n",
      "-----------------------------------\n",
      "Google Ads      15101\n",
      "Facebook Ads     1733\n",
      "Name: campaign_platform, dtype: int64\n",
      "               campaign_type           \n",
      "-----------------------------------\n",
      "Search         15101\n",
      "Conversions     1733\n",
      "Name: campaign_type, dtype: int64\n",
      "               communication_medium           \n",
      "-----------------------------------\n",
      "Search Keywords    15101\n",
      "Creative            1733\n",
      "Name: communication_medium, dtype: int64\n",
      "               subchannel           \n",
      "-----------------------------------\n",
      "Brand           7853\n",
      "Generic         4544\n",
      "Competitor      2704\n",
      "Facebook Ads    1733\n",
      "Name: subchannel, dtype: int64\n",
      "               audience_type           \n",
      "-----------------------------------\n",
      "'-            15101\n",
      "Audience 1      813\n",
      "Audience 2      738\n",
      "Audience 3      182\n",
      "Name: audience_type, dtype: int64\n",
      "               creative_type           \n",
      "-----------------------------------\n",
      "'-          15101\n",
      "Image        1130\n",
      "Carousal      603\n",
      "Name: creative_type, dtype: int64\n",
      "               creative_name           \n",
      "-----------------------------------\n",
      "'-          15101\n",
      "Click         644\n",
      "Carousal      603\n",
      "Girl          486\n",
      "Name: creative_name, dtype: int64\n",
      "               device           \n",
      "-----------------------------------\n",
      "Mobile     7357\n",
      "Desktop    6318\n",
      "device     1733\n",
      "Tablet     1426\n",
      "Name: device, dtype: int64\n",
      "               age           \n",
      "-----------------------------------\n",
      "25-34           3097\n",
      "35-44           2865\n",
      "Undetermined    2586\n",
      "45-54           2499\n",
      "18-24           2472\n",
      "55-64           1757\n",
      "65 or more      1558\n",
      "Name: age, dtype: int64\n",
      "               spends           \n",
      "-----------------------------------\n",
      "0.00      4104\n",
      "0.43        52\n",
      "0.46        42\n",
      "1.42        33\n",
      "1.43        32\n",
      "          ... \n",
      "37.64        1\n",
      "79.80        1\n",
      "151.67       1\n",
      "21.33        1\n",
      "20.69        1\n",
      "Name: spends, Length: 9087, dtype: int64\n",
      "               impressions           \n",
      "-----------------------------------\n",
      "1        2164\n",
      "2        1216\n",
      "3         907\n",
      "4         715\n",
      "5         627\n",
      "         ... \n",
      "936         1\n",
      "920         1\n",
      "39819       1\n",
      "2793        1\n",
      "11234       1\n",
      "Name: impressions, Length: 1188, dtype: int64\n",
      "               clicks           \n",
      "-----------------------------------\n",
      "0      4530\n",
      "1      2821\n",
      "2      1605\n",
      "3      1119\n",
      "4       759\n",
      "       ... \n",
      "391       1\n",
      "327       1\n",
      "279       1\n",
      "399       1\n",
      "215       1\n",
      "Name: clicks, Length: 263, dtype: int64\n",
      "               link_clicks           \n",
      "-----------------------------------\n",
      "0.0      15101\n",
      "1.0        233\n",
      "2.0        104\n",
      "3.0         87\n",
      "4.0         64\n",
      "         ...  \n",
      "221.0        1\n",
      "244.0        1\n",
      "116.0        1\n",
      "88.0         1\n",
      "327.0        1\n",
      "Name: link_clicks, Length: 160, dtype: int64\n"
     ]
    }
   ],
   "source": [
    "for i in data.columns:\n",
    "    print(\"               %s           \"%i)\n",
    "    print('-----------------------------------')\n",
    "    print(data[i].value_counts())"
   ]
  },
  {
   "cell_type": "markdown",
   "metadata": {},
   "source": [
    "#### observing the communication medium and campaign type are same for the same camapign_platform "
   ]
  },
  {
   "cell_type": "code",
   "execution_count": 118,
   "metadata": {},
   "outputs": [
    {
     "name": "stdout",
     "output_type": "stream",
     "text": [
      "  campaign_platform communication_medium      X\n",
      "0      Facebook Ads             Creative   1733\n",
      "1        Google Ads      Search Keywords  15101\n"
     ]
    }
   ],
   "source": [
    "grouped_multiple = data.groupby(['campaign_platform','communication_medium']).agg({'age':['count']})\n",
    "grouped_multiple.columns = ['X']\n",
    "grouped_multiple = grouped_multiple.reset_index()\n",
    "print(grouped_multiple)"
   ]
  },
  {
   "cell_type": "code",
   "execution_count": 119,
   "metadata": {},
   "outputs": [
    {
     "data": {
      "text/plain": [
       "<matplotlib.axes._subplots.AxesSubplot at 0x126a078f7f0>"
      ]
     },
     "execution_count": 119,
     "metadata": {},
     "output_type": "execute_result"
    },
    {
     "data": {
      "image/png": "[encoded data removed]",
      "text/plain": [
       "<Figure size 432x288 with 1 Axes>"
      ]
     },
     "metadata": {},
     "output_type": "display_data"
    }
   ],
   "source": [
    "sns.set(style='darkgrid')\n",
    "sns.countplot(data.age)\n"
   ]
  },
  {
   "cell_type": "code",
   "execution_count": 120,
   "metadata": {},
   "outputs": [
    {
     "data": {
      "text/plain": [
       "<matplotlib.axes._subplots.AxesSubplot at 0x126a5d15280>"
      ]
     },
     "execution_count": 120,
     "metadata": {},
     "output_type": "execute_result"
    },
    {
     "data": {
      "image/png": "[encoded data removed]",
      "text/plain": [
       "<Figure size 432x288 with 1 Axes>"
      ]
     },
     "metadata": {},
     "output_type": "display_data"
    }
   ],
   "source": [
    "sns.countplot(data.device)"
   ]
  },
  {
   "cell_type": "code",
   "execution_count": 121,
   "metadata": {},
   "outputs": [
    {
     "data": {
      "text/plain": [
       "<matplotlib.axes._subplots.AxesSubplot at 0x126ad320dc0>"
      ]
     },
     "execution_count": 121,
     "metadata": {},
     "output_type": "execute_result"
    },
    {
     "data": {
      "image/png": "[encoded data removed]",
      "text/plain": [
       "<Figure size 432x288 with 1 Axes>"
      ]
     },
     "metadata": {},
     "output_type": "display_data"
    }
   ],
   "source": [
    "sns.countplot(data.subchannel)"
   ]
  },
  {
   "cell_type": "code",
   "execution_count": 122,
   "metadata": {},
   "outputs": [],
   "source": [
    "#data[\"age\"] = pd.to_numeric(data[\"age\"], downcast=\"float\")"
   ]
  },
  {
   "cell_type": "code",
   "execution_count": 123,
   "metadata": {
    "scrolled": true
   },
   "outputs": [
    {
     "data": {
      "text/plain": [
       "<seaborn.axisgrid.JointGrid at 0x126acfa94c0>"
      ]
     },
     "execution_count": 123,
     "metadata": {},
     "output_type": "execute_result"
    },
    {
     "data": {
      "image/png": "[encoded data removed]",
      "text/plain": [
       "<Figure size 432x432 with 3 Axes>"
      ]
     },
     "metadata": {},
     "output_type": "display_data"
    }
   ],
   "source": [
    "sns.jointplot(x=\"spends\",y = 'clicks',data= data_copy,color='red',kind='reg')\n"
   ]
  },
  {
   "cell_type": "code",
   "execution_count": 124,
   "metadata": {},
   "outputs": [
    {
     "data": {
      "text/plain": [
       "<seaborn.axisgrid.PairGrid at 0x126acd05310>"
      ]
     },
     "execution_count": 124,
     "metadata": {},
     "output_type": "execute_result"
    },
    {
     "data": {
      "image/png": "[encoded data removed]",
      "text/plain": [
       "<Figure size 720x720 with 20 Axes>"
      ]
     },
     "metadata": {},
     "output_type": "display_data"
    }
   ],
   "source": [
    "sns.pairplot(data,vars =['age','spends','clicks','subchannel'],palette='husl')"
   ]
  },
  {
   "cell_type": "markdown",
   "metadata": {},
   "source": [
    "##### Pairplot represents the relationship between our target feature/variable and explanatory variables. It provides the possible direction of the relationship between the variables."
   ]
  },
  {
   "cell_type": "code",
   "execution_count": 180,
   "metadata": {},
   "outputs": [
    {
     "data": {
      "image/png": "[encoded data removed]",
      "text/plain": [
       "<Figure size 1008x432 with 2 Axes>"
      ]
     },
     "metadata": {},
     "output_type": "display_data"
    },
    {
     "data": {
      "image/png": "[encoded data removed]",
      "text/plain": [
       "<Figure size 1008x432 with 2 Axes>"
      ]
     },
     "metadata": {},
     "output_type": "display_data"
    },
    {
     "data": {
      "image/png": "[encoded data removed]",
      "text/plain": [
       "<Figure size 1008x432 with 2 Axes>"
      ]
     },
     "metadata": {},
     "output_type": "display_data"
    },
    {
     "data": {
      "image/png": "[encoded data removed]",
      "text/plain": [
       "<Figure size 1008x432 with 2 Axes>"
      ]
     },
     "metadata": {},
     "output_type": "display_data"
    }
   ],
   "source": [
    "plots=['age','spends','clicks','subchannel']\n",
    "for i in plots:\n",
    "    plt.figure(figsize = (14, 6))\n",
    "    plt.subplot(1,2,1)\n",
    "    sns.boxplot(data[i])\n",
    "    plt.subplot(1,2,2)\n",
    "    sns.distplot(data[i],bins= 20)    \n",
    "    plt.title(i)    \n",
    "    plt.show()"
   ]
  },
  {
   "cell_type": "code",
   "execution_count": null,
   "metadata": {},
   "outputs": [],
   "source": [
    "data.isnull().any(axis=1).sum()"
   ]
  },
  {
   "cell_type": "markdown",
   "metadata": {},
   "source": [
    "### encoding categorical data"
   ]
  },
  {
   "cell_type": "code",
   "execution_count": 126,
   "metadata": {},
   "outputs": [],
   "source": [
    "data['campaign_type'] = LabelEncoder().fit_transform(data['campaign_type'])\n",
    "data['creative_name'] = LabelEncoder().fit_transform(data['creative_name'])\n",
    "data['creative_type'] = LabelEncoder().fit_transform(data['creative_type'])\n",
    "data['audience_type'] = LabelEncoder().fit_transform(data['audience_type'])\n",
    "data['age'] = LabelEncoder().fit_transform(data['age'])\n",
    "data['device'] = LabelEncoder().fit_transform(data['device'])\n",
    "data['subchannel'] = LabelEncoder().fit_transform(data['subchannel'])\n",
    "data['communication_medium'] = LabelEncoder().fit_transform(data['communication_medium'])\n",
    "data['campaign_platform'] = LabelEncoder().fit_transform(data['campaign_platform'])\n"
   ]
  },
  {
   "cell_type": "code",
   "execution_count": 127,
   "metadata": {},
   "outputs": [],
   "source": [
    "data=data.dropna()"
   ]
  },
  {
   "cell_type": "code",
   "execution_count": 128,
   "metadata": {},
   "outputs": [
    {
     "name": "stdout",
     "output_type": "stream",
     "text": [
      "<class 'pandas.core.frame.DataFrame'>\n",
      "DatetimeIndex: 16288 entries, 2019-10-16 to 2020-07-07\n",
      "Data columns (total 13 columns):\n",
      " #   Column                Non-Null Count  Dtype  \n",
      "---  ------                --------------  -----  \n",
      " 0   campaign_platform     16288 non-null  int32  \n",
      " 1   campaign_type         16288 non-null  int32  \n",
      " 2   communication_medium  16288 non-null  int32  \n",
      " 3   subchannel            16288 non-null  int32  \n",
      " 4   audience_type         16288 non-null  int32  \n",
      " 5   creative_type         16288 non-null  int32  \n",
      " 6   creative_name         16288 non-null  int32  \n",
      " 7   device                16288 non-null  int32  \n",
      " 8   age                   16288 non-null  int32  \n",
      " 9   spends                16288 non-null  float64\n",
      " 10  impressions           16288 non-null  int64  \n",
      " 11  clicks                16288 non-null  int64  \n",
      " 12  link_clicks           16288 non-null  float64\n",
      "dtypes: float64(2), int32(9), int64(2)\n",
      "memory usage: 1.2 MB\n"
     ]
    }
   ],
   "source": [
    "data.info()"
   ]
  },
  {
   "cell_type": "markdown",
   "metadata": {},
   "source": [
    "## data analysis"
   ]
  },
  {
   "cell_type": "markdown",
   "metadata": {},
   "source": [
    "#### impression per platform (facebook and google ads)\n",
    "#### platform wise total clicks\n",
    "#### Capital invested by each platform\n",
    "#### no. of link_clicks per platform (redirects  to the respective ad page)"
   ]
  },
  {
   "cell_type": "code",
   "execution_count": 129,
   "metadata": {},
   "outputs": [
    {
     "name": "stdout",
     "output_type": "stream",
     "text": [
      "total impressions per platform\n",
      "campaign_platform\n",
      "0    4052762\n",
      "1     776893\n",
      "Name: impressions, dtype: int64\n"
     ]
    }
   ],
   "source": [
    "print('total impressions per platform')\n",
    "print((data.groupby(['campaign_platform']).impressions.sum()))\n"
   ]
  },
  {
   "cell_type": "code",
   "execution_count": 130,
   "metadata": {},
   "outputs": [
    {
     "name": "stdout",
     "output_type": "stream",
     "text": [
      "platform wise total clicks\n",
      "campaign_platform\n",
      "0     77414\n",
      "1    124065\n",
      "Name: clicks, dtype: int64\n"
     ]
    }
   ],
   "source": [
    "print(\"platform wise total clicks\")\n",
    "print((data.groupby(['campaign_platform'])).clicks.sum())"
   ]
  },
  {
   "cell_type": "code",
   "execution_count": 131,
   "metadata": {},
   "outputs": [
    {
     "name": "stdout",
     "output_type": "stream",
     "text": [
      "Amount of money spent by each platform  \n",
      "campaign_platform\n",
      "0     1187\n",
      "1    15101\n",
      "Name: spends, dtype: int64\n"
     ]
    }
   ],
   "source": [
    "print('Amount of money spent by each platform  ')\n",
    "print((data.groupby(['campaign_platform'])).spends.count())"
   ]
  },
  {
   "cell_type": "code",
   "execution_count": 132,
   "metadata": {},
   "outputs": [
    {
     "name": "stdout",
     "output_type": "stream",
     "text": [
      "Sum of redirects to the ad page by each platform\n",
      "campaign_platform\n",
      "0    35351.0\n",
      "1        0.0\n",
      "Name: link_clicks, dtype: float64\n"
     ]
    }
   ],
   "source": [
    "print('Sum of redirects to the ad page by each platform')\n",
    "print((data.groupby(['campaign_platform'])).link_clicks.sum())"
   ]
  },
  {
   "cell_type": "code",
   "execution_count": 133,
   "metadata": {},
   "outputs": [
    {
     "data": {
      "image/png": "[encoded data removed]",
      "text/plain": [
       "<Figure size 432x288 with 1 Axes>"
      ]
     },
     "metadata": {},
     "output_type": "display_data"
    }
   ],
   "source": [
    "sns.set(style='whitegrid')\n",
    "ax=sns.barplot(x='campaign_platform',y='link_clicks',data=data,color='salmon')"
   ]
  },
  {
   "cell_type": "markdown",
   "metadata": {},
   "source": [
    "#### above graph represents there are absolute zero numbers of redirects from google ads"
   ]
  },
  {
   "cell_type": "code",
   "execution_count": 134,
   "metadata": {},
   "outputs": [
    {
     "name": "stdout",
     "output_type": "stream",
     "text": [
      "age wise link_clicks \n",
      "age\n",
      "0        0.0\n",
      "1    26461.0\n",
      "2     7016.0\n",
      "3     1812.0\n",
      "4       62.0\n",
      "5        0.0\n",
      "6        0.0\n",
      "Name: link_clicks, dtype: float64\n"
     ]
    }
   ],
   "source": [
    "print(\"age wise link_clicks \")\n",
    "print((data.groupby(['age']).link_clicks.sum()))"
   ]
  },
  {
   "cell_type": "code",
   "execution_count": 135,
   "metadata": {},
   "outputs": [
    {
     "data": {
      "text/plain": [
       "<matplotlib.axes._subplots.AxesSubplot at 0x126aca893d0>"
      ]
     },
     "execution_count": 135,
     "metadata": {},
     "output_type": "execute_result"
    },
    {
     "data": {
      "image/png": "[encoded data removed]",
      "text/plain": [
       "<Figure size 432x288 with 1 Axes>"
      ]
     },
     "metadata": {},
     "output_type": "display_data"
    }
   ],
   "source": [
    "sns.barplot(x='age',y='link_clicks',data=data,color='red')"
   ]
  },
  {
   "cell_type": "markdown",
   "metadata": {},
   "source": [
    "### observing above we can justify the fact that 25-32 age group are more likely to go the ads page and least being 18-24,65 or more"
   ]
  },
  {
   "cell_type": "code",
   "execution_count": 136,
   "metadata": {},
   "outputs": [
    {
     "name": "stdout",
     "output_type": "stream",
     "text": [
      "device wise impression total\n",
      "device\n",
      "0    29276\n",
      "1    94348\n",
      "2      441\n",
      "3    77414\n",
      "Name: clicks, dtype: int64\n"
     ]
    }
   ],
   "source": [
    "print('device wise impression total')\n",
    "print((data.groupby(['device']).clicks.sum()))"
   ]
  },
  {
   "cell_type": "code",
   "execution_count": 137,
   "metadata": {},
   "outputs": [
    {
     "data": {
      "text/plain": [
       "<matplotlib.axes._subplots.AxesSubplot at 0x126a3b86bb0>"
      ]
     },
     "execution_count": 137,
     "metadata": {},
     "output_type": "execute_result"
    },
    {
     "data": {
      "image/png": "[encoded data removed]",
      "text/plain": [
       "<Figure size 432x288 with 1 Axes>"
      ]
     },
     "metadata": {},
     "output_type": "display_data"
    }
   ],
   "source": [
    "sns.barplot(x='device',y='clicks',data=data,color='purple')"
   ]
  },
  {
   "cell_type": "markdown",
   "metadata": {},
   "source": [
    "### more no. of mobile users click on ads as compared to other devices "
   ]
  },
  {
   "cell_type": "code",
   "execution_count": 138,
   "metadata": {},
   "outputs": [
    {
     "data": {
      "text/plain": [
       "<matplotlib.axes._subplots.AxesSubplot at 0x126a3bacc40>"
      ]
     },
     "execution_count": 138,
     "metadata": {},
     "output_type": "execute_result"
    },
    {
     "data": {
      "image/png": "[encoded data removed]",
      "text/plain": [
       "<Figure size 432x288 with 1 Axes>"
      ]
     },
     "metadata": {},
     "output_type": "display_data"
    }
   ],
   "source": [
    "sns.barplot(x='device',y='impressions',data=data,color='purple')"
   ]
  },
  {
   "cell_type": "code",
   "execution_count": 139,
   "metadata": {},
   "outputs": [
    {
     "name": "stdout",
     "output_type": "stream",
     "text": [
      "total clicks by Subchannel\n",
      "subchannel\n",
      "0    69887\n",
      "1    10451\n",
      "2    77414\n",
      "3    43727\n",
      "Name: clicks, dtype: int64\n"
     ]
    }
   ],
   "source": [
    "print('total clicks by Subchannel')\n",
    "print((data.groupby(['subchannel']).clicks.sum()))\n"
   ]
  },
  {
   "cell_type": "code",
   "execution_count": 140,
   "metadata": {},
   "outputs": [
    {
     "data": {
      "text/plain": [
       "<matplotlib.axes._subplots.AxesSubplot at 0x126acd405e0>"
      ]
     },
     "execution_count": 140,
     "metadata": {},
     "output_type": "execute_result"
    },
    {
     "data": {
      "image/png": "[encoded data removed]",
      "text/plain": [
       "<Figure size 432x288 with 1 Axes>"
      ]
     },
     "metadata": {},
     "output_type": "display_data"
    }
   ],
   "source": [
    "sns.barplot(x='subchannel',y='clicks',data=data,color='orange')"
   ]
  },
  {
   "cell_type": "code",
   "execution_count": 141,
   "metadata": {},
   "outputs": [
    {
     "data": {
      "text/plain": [
       "<matplotlib.axes._subplots.AxesSubplot at 0x126acd40f10>"
      ]
     },
     "execution_count": 141,
     "metadata": {},
     "output_type": "execute_result"
    },
    {
     "data": {
      "image/png": "[encoded data removed]",
      "text/plain": [
       "<Figure size 864x720 with 2 Axes>"
      ]
     },
     "metadata": {},
     "output_type": "display_data"
    }
   ],
   "source": [
    "fig= plt.figure(figsize= (12,10))\n",
    "sns.heatmap(data.corr(),)\n",
    "## Degree of relatioship i.e correlation using heat map"
   ]
  },
  {
   "cell_type": "markdown",
   "metadata": {},
   "source": [
    "#### Facebook ads was the most used subchannel in terms of no. of clicks"
   ]
  },
  {
   "cell_type": "code",
   "execution_count": 142,
   "metadata": {},
   "outputs": [
    {
     "name": "stdout",
     "output_type": "stream",
     "text": [
      "<class 'pandas.core.frame.DataFrame'>\n",
      "DatetimeIndex: 16288 entries, 2019-10-16 to 2020-07-07\n",
      "Data columns (total 13 columns):\n",
      " #   Column                Non-Null Count  Dtype  \n",
      "---  ------                --------------  -----  \n",
      " 0   campaign_platform     16288 non-null  int32  \n",
      " 1   campaign_type         16288 non-null  int32  \n",
      " 2   communication_medium  16288 non-null  int32  \n",
      " 3   subchannel            16288 non-null  int32  \n",
      " 4   audience_type         16288 non-null  int32  \n",
      " 5   creative_type         16288 non-null  int32  \n",
      " 6   creative_name         16288 non-null  int32  \n",
      " 7   device                16288 non-null  int32  \n",
      " 8   age                   16288 non-null  int32  \n",
      " 9   spends                16288 non-null  float64\n",
      " 10  impressions           16288 non-null  int64  \n",
      " 11  clicks                16288 non-null  int64  \n",
      " 12  link_clicks           16288 non-null  float64\n",
      "dtypes: float64(2), int32(9), int64(2)\n",
      "memory usage: 1.5 MB\n"
     ]
    }
   ],
   "source": [
    "data.dropna()\n",
    "data.info()"
   ]
  },
  {
   "cell_type": "markdown",
   "metadata": {},
   "source": [
    "#### Identifying potential Outliers using IQR"
   ]
  },
  {
   "cell_type": "code",
   "execution_count": 143,
   "metadata": {},
   "outputs": [],
   "source": [
    "numeric_cols = ['spends','impressions','clicks','link_clicks']"
   ]
  },
  {
   "cell_type": "code",
   "execution_count": 144,
   "metadata": {},
   "outputs": [
    {
     "name": "stdout",
     "output_type": "stream",
     "text": [
      "count    16288.000000\n",
      "mean       153.565088\n",
      "std        491.194006\n",
      "min          0.000000\n",
      "25%          0.000000\n",
      "50%         25.435000\n",
      "75%        116.210000\n",
      "max       9221.960000\n",
      "Name: spends, dtype: float64\n",
      "The upper and lower bounds for suspected outliers are 290.525 and -174.315.\n",
      "count    16288.000000\n",
      "mean       296.516147\n",
      "std       2484.608093\n",
      "min          0.000000\n",
      "25%          3.000000\n",
      "50%         13.000000\n",
      "75%         66.000000\n",
      "max      67454.000000\n",
      "Name: impressions, dtype: float64\n",
      "The upper and lower bounds for suspected outliers are 160.5 and -91.5.\n",
      "count    16288.000000\n",
      "mean        12.369781\n",
      "std         45.489434\n",
      "min          0.000000\n",
      "25%          0.000000\n",
      "50%          2.000000\n",
      "75%          9.000000\n",
      "max       1075.000000\n",
      "Name: clicks, dtype: float64\n",
      "The upper and lower bounds for suspected outliers are 22.5 and -13.5.\n",
      "count    16288.000000\n",
      "mean         2.170371\n",
      "std         18.659132\n",
      "min          0.000000\n",
      "25%          0.000000\n",
      "50%          0.000000\n",
      "75%          0.000000\n",
      "max        450.000000\n",
      "Name: link_clicks, dtype: float64\n",
      "The upper and lower bounds for suspected outliers are 0.0 and 0.0.\n"
     ]
    }
   ],
   "source": [
    "from pprint import pprint\n",
    "for i in numeric_cols:\n",
    "    stat = data[i].describe()\n",
    "    pprint(stat)\n",
    "    IQR = stat['75%'] - stat['25%']\n",
    "    upper = stat['75%'] + 1.5 * IQR\n",
    "    lower = stat['25%'] - 1.5 * IQR\n",
    "    print('The upper and lower bounds for suspected outliers are {} and {}.'.format(upper, lower))"
   ]
  },
  {
   "cell_type": "markdown",
   "metadata": {},
   "source": [
    "### Model building "
   ]
  },
  {
   "cell_type": "code",
   "execution_count": 173,
   "metadata": {},
   "outputs": [],
   "source": [
    "from sklearn.model_selection import train_test_split\n",
    "from sklearn.impute import SimpleImputer\n",
    "data.dropna(axis=0)\n",
    "y=data.clicks\n",
    "features= ['impressions','spends','age']\n",
    "X=data[features]"
   ]
  },
  {
   "cell_type": "code",
   "execution_count": 174,
   "metadata": {},
   "outputs": [],
   "source": [
    "seed =9\n",
    "test_size=0.33\n",
    "X_train,X_test,y_train,y_test=train_test_split(X,y,test_size=test_size,random_state=seed)"
   ]
  },
  {
   "cell_type": "code",
   "execution_count": 175,
   "metadata": {
    "scrolled": true
   },
   "outputs": [
    {
     "name": "stdout",
     "output_type": "stream",
     "text": [
      "Scores: [0.42307692 0.41025641 0.44179652 0.41063245 0.42804766 0.4335472\n",
      " 0.42804766 0.4152154  0.4152154  0.42621448]\n",
      "Mean: 0.4232050106935533\n",
      "Standard Deviation: 0.009808080138802773\n"
     ]
    }
   ],
   "source": [
    "from sklearn.model_selection import cross_val_score\n",
    "\n",
    "rfc_cv = RandomForestClassifier(n_estimators=100)\n",
    "scores = cross_val_score(rfc_cv, X_train, y_train, cv=10, scoring = \"accuracy\")\n",
    "print(\"Scores:\", scores)\n",
    "print(\"Mean:\", scores.mean())\n",
    "print(\"Standard Deviation:\", scores.std())"
   ]
  },
  {
   "cell_type": "code",
   "execution_count": 176,
   "metadata": {},
   "outputs": [
    {
     "name": "stdout",
     "output_type": "stream",
     "text": [
      "XGBoost's prediction accuracy is: 41.61\n",
      "Time consumed for training: 59.474\n",
      "Time consumed for prediction: 7.94758 seconds\n"
     ]
    }
   ],
   "source": [
    "import time\n",
    "xgb = XGBClassifier(n_estimators=100)\n",
    "training_start = time.perf_counter()\n",
    "xgb.fit(X_train, y_train)\n",
    "training_end = time.perf_counter()\n",
    "prediction_start = time.perf_counter()\n",
    "preds = xgb.predict(X_test)\n",
    "prediction_end = time.perf_counter()\n",
    "acc_xgb = (preds == y_test).sum().astype(float) / len(preds)*100\n",
    "xgb_train_time = training_end-training_start\n",
    "xgb_prediction_time = prediction_end-prediction_start\n",
    "print(\"XGBoost's prediction accuracy is: %3.2f\" % (acc_xgb))\n",
    "print(\"Time consumed for training: %4.3f\" % (xgb_train_time))\n",
    "print(\"Time consumed for prediction: %6.5f seconds\" % (xgb_prediction_time))"
   ]
  },
  {
   "cell_type": "code",
   "execution_count": 177,
   "metadata": {},
   "outputs": [
    {
     "name": "stdout",
     "output_type": "stream",
     "text": [
      "Scikit-Learn's Random Forest Classifier's prediction accuracy is: 42.84\n",
      "Time consumed for training: 0.525 seconds\n",
      "Time consumed for prediction: 0.10110 seconds\n"
     ]
    }
   ],
   "source": [
    "rfc = RandomForestClassifier(n_estimators=10)\n",
    "training_start = time.perf_counter()\n",
    "rfc.fit(X_train, y_train)\n",
    "training_end = time.perf_counter()\n",
    "prediction_start = time.perf_counter()\n",
    "preds = rfc.predict(X_test)\n",
    "prediction_end = time.perf_counter()\n",
    "acc_rfc = (preds == y_test).sum().astype(float) / len(preds)*100\n",
    "rfc_train_time = training_end-training_start\n",
    "rfc_prediction_time = prediction_end-prediction_start\n",
    "print(\"Scikit-Learn's Random Forest Classifier's prediction accuracy is: %3.2f\" % (acc_rfc))\n",
    "print(\"Time consumed for training: %4.3f seconds\" % (rfc_train_time))\n",
    "print(\"Time consumed for prediction: %6.5f seconds\" % (rfc_prediction_time))"
   ]
  },
  {
   "cell_type": "code",
   "execution_count": 178,
   "metadata": {},
   "outputs": [
    {
     "data": {
      "text/plain": [
       "DecisionTreeRegressor(random_state=1)"
      ]
     },
     "execution_count": 178,
     "metadata": {},
     "output_type": "execute_result"
    }
   ],
   "source": [
    "from sklearn.tree import DecisionTreeRegressor\n",
    "\n",
    "new_model= DecisionTreeRegressor(random_state=1 )\n",
    "new_model.fit(X,y)"
   ]
  },
  {
   "cell_type": "code",
   "execution_count": 179,
   "metadata": {},
   "outputs": [
    {
     "name": "stdout",
     "output_type": "stream",
     "text": [
      "making predictions for the following 5:\n",
      "            impressions  spends  age\n",
      "Date                                \n",
      "2019-10-16            2    0.00    0\n",
      "2019-10-16            5    0.00    1\n",
      "2019-10-16            1    0.00    2\n",
      "2019-10-16            5   14.63    6\n",
      "2019-10-18           10   53.31    0\n",
      "The predictions are\n",
      "[0. 0. 0. 3. 2.]\n"
     ]
    }
   ],
   "source": [
    "print(\"making predictions for the following 5:\")\n",
    "print(X.head())\n",
    "print(\"The predictions are\")\n",
    "print(new_model.predict(X.head()))"
   ]
  },
  {
   "cell_type": "code",
   "execution_count": 182,
   "metadata": {},
   "outputs": [
    {
     "name": "stdout",
     "output_type": "stream",
     "text": [
      "Reinitialized existing Git repository in C:/Users/ADMIN/.git/\n"
     ]
    }
   ],
   "source": [
    "!git init\n"
   ]
  },
  {
   "cell_type": "code",
   "execution_count": null,
   "metadata": {},
   "outputs": [],
   "source": []
  },
  {
   "cell_type": "code",
   "execution_count": 185,
   "metadata": {},
   "outputs": [],
   "source": []
  },
  {
   "cell_type": "code",
   "execution_count": null,
   "metadata": {},
   "outputs": [],
   "source": []
  },
  {
   "cell_type": "code",
   "execution_count": null,
   "metadata": {},
   "outputs": [],
   "source": []
  }
 ],
 "metadata": {
  "kernelspec": {
   "display_name": "Python 3",
   "language": "python",
   "name": "python3"
  },
  "language_info": {
   "codemirror_mode": {
    "name": "ipython",
    "version": 3
   },
   "file_extension": ".py",
   "mimetype": "text/x-python",
   "name": "python",
   "nbconvert_exporter": "python",
   "pygments_lexer": "ipython3",
   "version": "3.8.3"
  }
 },
 "nbformat": 4,
 "nbformat_minor": 4
}
